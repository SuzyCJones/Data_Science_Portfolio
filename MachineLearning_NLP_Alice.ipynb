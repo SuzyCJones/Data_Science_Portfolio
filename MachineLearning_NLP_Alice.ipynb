{
 "cells": [
  {
   "cell_type": "code",
   "execution_count": 44,
   "id": "9cfb4178-bdfc-4a23-a3c7-5215737938b5",
   "metadata": {},
   "outputs": [
    {
     "name": "stderr",
     "output_type": "stream",
     "text": [
      "[nltk_data] Downloading package stopwords to\n",
      "[nltk_data]     /Users/suzejones/nltk_data...\n",
      "[nltk_data]   Unzipping corpora/stopwords.zip.\n"
     ]
    }
   ],
   "source": [
    "import requests\n",
    "from bs4 import BeautifulSoup\n",
    "import nltk\n",
    "nltk.download('stopwords')\n",
    "from nltk.tokenize import RegexpTokenizer\n",
    "import matplotlib.pyplot as plt\n",
    "import seaborn as sns\n",
    "%matplotlib inline"
   ]
  },
  {
   "cell_type": "code",
   "execution_count": 45,
   "id": "838c5de7-5190-447d-972c-5e991b2a7372",
   "metadata": {},
   "outputs": [],
   "source": [
    "# Create read function"
   ]
  },
  {
   "cell_type": "code",
   "execution_count": 46,
   "id": "838f6473-6f13-4295-b449-8fae5a5d818a",
   "metadata": {},
   "outputs": [],
   "source": [
    "url = 'https://www.gutenberg.org/files/11/11-h/11-h.htm'"
   ]
  },
  {
   "cell_type": "code",
   "execution_count": 47,
   "id": "0137267c-dafb-459d-af28-afa78cd47d92",
   "metadata": {},
   "outputs": [],
   "source": [
    "r = requests.get(url)"
   ]
  },
  {
   "cell_type": "code",
   "execution_count": 48,
   "id": "cc91520f-efc7-410e-a868-8323222508e6",
   "metadata": {},
   "outputs": [
    {
     "data": {
      "text/plain": [
       "requests.models.Response"
      ]
     },
     "execution_count": 48,
     "metadata": {},
     "output_type": "execute_result"
    }
   ],
   "source": [
    "type(r)"
   ]
  },
  {
   "cell_type": "code",
   "execution_count": 49,
   "id": "f8069a0f-bb7b-4a19-84a1-b41477e1f923",
   "metadata": {},
   "outputs": [],
   "source": [
    "# Covert to Soup.... Mmmmmm.... "
   ]
  },
  {
   "cell_type": "code",
   "execution_count": 50,
   "id": "6eae62bd-6afa-4d43-a3f2-33f130c805a6",
   "metadata": {},
   "outputs": [
    {
     "data": {
      "text/plain": [
       "bs4.BeautifulSoup"
      ]
     },
     "execution_count": 50,
     "metadata": {},
     "output_type": "execute_result"
    }
   ],
   "source": [
    "html = r.text\n",
    "soup = BeautifulSoup(html,\"html.parser\")\n",
    "type(soup)"
   ]
  },
  {
   "cell_type": "code",
   "execution_count": 51,
   "id": "f92ef703-b379-4e86-9a25-36b916b23297",
   "metadata": {},
   "outputs": [
    {
     "data": {
      "text/plain": [
       "'The Project Gutenberg eBook of Alice’s Adventures in Wonderland, by Lewis Carroll'"
      ]
     },
     "execution_count": 51,
     "metadata": {},
     "output_type": "execute_result"
    }
   ],
   "source": [
    "soup.title.string"
   ]
  },
  {
   "cell_type": "code",
   "execution_count": 52,
   "id": "a9116dd5-4c36-461b-8623-66a4992408ac",
   "metadata": {},
   "outputs": [],
   "source": [
    "# Soup is done!!!!!"
   ]
  },
  {
   "cell_type": "code",
   "execution_count": 53,
   "id": "5dc65e96-d6d5-4a8f-9892-d685e2d90b38",
   "metadata": {},
   "outputs": [],
   "source": [
    "# Tokenize Data"
   ]
  },
  {
   "cell_type": "code",
   "execution_count": 54,
   "id": "72b385d0-084e-4903-a6e1-2e6889281f0b",
   "metadata": {},
   "outputs": [
    {
     "data": {
      "text/plain": [
       "['The',\n",
       " 'Project',\n",
       " 'Gutenberg',\n",
       " 'eBook',\n",
       " 'of',\n",
       " 'Alice',\n",
       " 's',\n",
       " 'Adventures',\n",
       " 'in',\n",
       " 'Wonderland',\n",
       " 'by',\n",
       " 'Lewis',\n",
       " 'Carroll']"
      ]
     },
     "execution_count": 54,
     "metadata": {},
     "output_type": "execute_result"
    }
   ],
   "source": [
    "text = soup.get_text()\n",
    "tokenizer = RegexpTokenizer('\\w+')\n",
    "tokens = tokenizer.tokenize(text)\n",
    "tokens[:13]"
   ]
  },
  {
   "cell_type": "code",
   "execution_count": 55,
   "id": "05f8a0fc-4fff-4124-a378-c2e2e172e678",
   "metadata": {},
   "outputs": [],
   "source": [
    "#Remove Capitalization"
   ]
  },
  {
   "cell_type": "code",
   "execution_count": 56,
   "id": "ec6a5f12-e5bc-433b-8295-e8693def80f4",
   "metadata": {},
   "outputs": [],
   "source": [
    "words = []\n",
    "for word in tokens:\n",
    "    words.append(word.lower())"
   ]
  },
  {
   "cell_type": "code",
   "execution_count": 57,
   "id": "a20ea9b0-e543-458c-bfd9-bb2433c31e0f",
   "metadata": {},
   "outputs": [
    {
     "data": {
      "text/plain": [
       "['the',\n",
       " 'project',\n",
       " 'gutenberg',\n",
       " 'ebook',\n",
       " 'of',\n",
       " 'alice',\n",
       " 's',\n",
       " 'adventures',\n",
       " 'in',\n",
       " 'wonderland',\n",
       " 'by',\n",
       " 'lewis',\n",
       " 'carroll',\n",
       " 'the',\n",
       " 'project',\n",
       " 'gutenberg',\n",
       " 'ebook',\n",
       " 'of',\n",
       " 'aliceâ',\n",
       " 's',\n",
       " 'adventures',\n",
       " 'in',\n",
       " 'wonderland',\n",
       " 'by',\n",
       " 'lewis',\n",
       " 'carroll',\n",
       " 'this',\n",
       " 'ebook',\n",
       " 'is',\n",
       " 'for',\n",
       " 'the',\n",
       " 'use',\n",
       " 'of',\n",
       " 'anyone',\n",
       " 'anywhere',\n",
       " 'in',\n",
       " 'the',\n",
       " 'united',\n",
       " 'states',\n",
       " 'and',\n",
       " 'most',\n",
       " 'other',\n",
       " 'parts',\n",
       " 'of',\n",
       " 'the',\n",
       " 'world',\n",
       " 'at',\n",
       " 'no',\n",
       " 'cost',\n",
       " 'and']"
      ]
     },
     "execution_count": 57,
     "metadata": {},
     "output_type": "execute_result"
    }
   ],
   "source": [
    "words[:50]"
   ]
  },
  {
   "cell_type": "code",
   "execution_count": 58,
   "id": "a06d1241-2852-4580-9c94-06e8698cf9f1",
   "metadata": {},
   "outputs": [],
   "source": [
    "#Remove StopWords"
   ]
  },
  {
   "cell_type": "code",
   "execution_count": 59,
   "id": "7a889f2f-e42e-4be2-aa9c-d17ec3405063",
   "metadata": {},
   "outputs": [],
   "source": [
    "stopwords = nltk.corpus.stopwords.words('english')"
   ]
  },
  {
   "cell_type": "code",
   "execution_count": 62,
   "id": "93a2ef28-2cf0-4230-ab8d-35cbc781011b",
   "metadata": {},
   "outputs": [
    {
     "data": {
      "text/plain": [
       "['i',\n",
       " 'me',\n",
       " 'my',\n",
       " 'myself',\n",
       " 'we',\n",
       " 'our',\n",
       " 'ours',\n",
       " 'ourselves',\n",
       " 'you',\n",
       " \"you're\",\n",
       " \"you've\",\n",
       " \"you'll\",\n",
       " \"you'd\",\n",
       " 'your',\n",
       " 'yours',\n",
       " 'yourself',\n",
       " 'yourselves',\n",
       " 'he',\n",
       " 'him',\n",
       " 'his',\n",
       " 'himself',\n",
       " 'she',\n",
       " \"she's\",\n",
       " 'her',\n",
       " 'hers']"
      ]
     },
     "execution_count": 62,
     "metadata": {},
     "output_type": "execute_result"
    }
   ],
   "source": [
    "stopwords[:25]"
   ]
  },
  {
   "cell_type": "code",
   "execution_count": 67,
   "id": "f3079cf9-1620-4bbe-b58a-4122a4419844",
   "metadata": {},
   "outputs": [],
   "source": [
    "wordsWithoutStops = []\n",
    "for word in words:\n",
    "    if word not in stopwords:\n",
    "        wordsWithoutStops.append(word)"
   ]
  },
  {
   "cell_type": "code",
   "execution_count": 71,
   "id": "c6485920-c533-482a-9800-56240aaa08b2",
   "metadata": {},
   "outputs": [],
   "source": [
    "#Plotting Words Without Stops Frequency"
   ]
  },
  {
   "cell_type": "code",
   "execution_count": 72,
   "id": "6585697a-fb77-43c2-af9d-2141fd1309d9",
   "metadata": {},
   "outputs": [
    {
     "data": {
      "image/png": "[encoded data removed]",
      "text/plain": [
       "<Figure size 640x480 with 1 Axes>"
      ]
     },
     "metadata": {},
     "output_type": "display_data"
    },
    {
     "data": {
      "text/plain": [
       "<Axes: xlabel='Samples', ylabel='Counts'>"
      ]
     },
     "execution_count": 72,
     "metadata": {},
     "output_type": "execute_result"
    }
   ],
   "source": [
    "sns.set()\n",
    "frequencyDis = nltk.FreqDist(wordsWithoutStops)\n",
    "frequencyDis.plot(25)"
   ]
  },
  {
   "cell_type": "markdown",
   "id": "36805bdd-668e-4963-94d5-2380226c5a72",
   "metadata": {},
   "source": [
    "## Conclusion:  In the novel, \"Alice's Adventures in Wonderland\" by Lewis Carroll, \n",
    "## we can conclude the main character of the story being Alice based on the frequency \n",
    "## of her name written throughout the story. Other important characters seem to be the \n",
    "## Red Queen, The King, the turtle, the Mad Hatter, and the Gryphon based on being in \n",
    "## the top 25 most repeated words. Interestingly, the word 'mock'is the 22nd most read \n",
    "## word in the novel, which is humorous at least and may help predict the tone of work. "
   ]
  },
  {
   "cell_type": "code",
   "execution_count": null,
   "id": "b153e850-46ed-4b60-b2b1-8bbf7232281e",
   "metadata": {},
   "outputs": [],
   "source": []
  }
 ],
 "metadata": {
  "kernelspec": {
   "display_name": "Python 3 (ipykernel)",
   "language": "python",
   "name": "python3"
  },
  "language_info": {
   "codemirror_mode": {
    "name": "ipython",
    "version": 3
   },
   "file_extension": ".py",
   "mimetype": "text/x-python",
   "name": "python",
   "nbconvert_exporter": "python",
   "pygments_lexer": "ipython3",
   "version": "3.10.9"
  }
 },
 "nbformat": 4,
 "nbformat_minor": 5
}
