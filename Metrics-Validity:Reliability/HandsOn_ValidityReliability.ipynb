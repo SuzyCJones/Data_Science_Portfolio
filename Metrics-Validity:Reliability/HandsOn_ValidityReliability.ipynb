{
 "cells": [
  {
   "cell_type": "code",
   "execution_count": 57,
   "id": "ba8de342-e075-4d8a-9ea1-d26b4b2ac400",
   "metadata": {},
   "outputs": [],
   "source": [
    "#Finding the Reliability and Validity in the Student Survey"
   ]
  },
  {
   "cell_type": "code",
   "execution_count": 58,
   "id": "73cc7f64-cf7d-47b6-a2d7-367c1d30eb9e",
   "metadata": {},
   "outputs": [],
   "source": [
    "#DS103 Lesson 5 Hands On"
   ]
  },
  {
   "cell_type": "code",
   "execution_count": 59,
   "id": "4c89c300-6881-4927-b528-d35453b5d1b7",
   "metadata": {},
   "outputs": [],
   "source": [
    "#Import Data/Packages"
   ]
  },
  {
   "cell_type": "code",
   "execution_count": 60,
   "id": "4bae28b0-f9c1-4a71-b76c-ab0a374c8d4a",
   "metadata": {},
   "outputs": [
    {
     "name": "stdout",
     "output_type": "stream",
     "text": [
      "\n",
      "The downloaded binary packages are in\n",
      "\t/var/folders/q_/vv8mn9pn63l7m3ps3k_2tqdm0000gn/T//RtmpQKAduU/downloaded_packages\n",
      "\n",
      "The downloaded binary packages are in\n",
      "\t/var/folders/q_/vv8mn9pn63l7m3ps3k_2tqdm0000gn/T//RtmpQKAduU/downloaded_packages\n",
      "\n",
      "The downloaded binary packages are in\n",
      "\t/var/folders/q_/vv8mn9pn63l7m3ps3k_2tqdm0000gn/T//RtmpQKAduU/downloaded_packages\n",
      "\n",
      "The downloaded binary packages are in\n",
      "\t/var/folders/q_/vv8mn9pn63l7m3ps3k_2tqdm0000gn/T//RtmpQKAduU/downloaded_packages\n"
     ]
    }
   ],
   "source": [
    "install.packages(\"corpcor\")\n",
    "install.packages(\"GPArotation\")\n",
    "install.packages(\"psych\")\n",
    "install.packages(\"IDPmisc\")"
   ]
  },
  {
   "cell_type": "code",
   "execution_count": 61,
   "id": "65890a7f-d325-47b2-8106-16ab2150991d",
   "metadata": {},
   "outputs": [],
   "source": [
    "library(\"corpcor\")\n",
    "library(\"GPArotation\")\n",
    "library(\"psych\")\n",
    "library(\"IDPmisc\")"
   ]
  },
  {
   "cell_type": "code",
   "execution_count": 62,
   "id": "967c7a8d-deb6-4e05-ab7e-981caad7cd32",
   "metadata": {},
   "outputs": [],
   "source": [
    "studentSurvey = read.csv(\"/Users/suzejones/Downloads/studentSurvey/studentSurvey.csv\")"
   ]
  },
  {
   "cell_type": "code",
   "execution_count": 63,
   "id": "96e0a591-077e-463d-bb8d-0372cda0aa32",
   "metadata": {},
   "outputs": [
    {
     "data": {
      "text/html": [
       "<table class=\"dataframe\">\n",
       "<caption>A data.frame: 6 × 87</caption>\n",
       "<thead>\n",
       "\t<tr><th></th><th scope=col>Timestamp</th><th scope=col>Gender</th><th scope=col>Faculty</th><th scope=col>Engineering.Program</th><th scope=col>Law.Program</th><th scope=col>Business.Program</th><th scope=col>Arts.Program</th><th scope=col>Other.Program</th><th scope=col>Bachelor..Academic.Year.in.EU</th><th scope=col>Masters.Academic.Year.in.EU</th><th scope=col>⋯</th><th scope=col>Q3</th><th scope=col>Q4</th><th scope=col>Q5</th><th scope=col>Q6..What.are.the.best.aspects.of.the.program..</th><th scope=col>Q7..In.your.opinion.the.best.aspect.of.the.program.is</th><th scope=col>Q8..In.your.opinion.the.next.best.aspect.of.the.program.is</th><th scope=col>What.aspects.of.the.program.could.be.improved.</th><th scope=col>Do.you.feel.that.the.quality.of.education.improved.at.EU.over.the.last.year.</th><th scope=col>Do.you.feel.that.the.image.of.the.University.improved.over.the.last.year.</th><th scope=col>Username</th></tr>\n",
       "\t<tr><th></th><th scope=col>&lt;chr&gt;</th><th scope=col>&lt;chr&gt;</th><th scope=col>&lt;chr&gt;</th><th scope=col>&lt;lgl&gt;</th><th scope=col>&lt;chr&gt;</th><th scope=col>&lt;chr&gt;</th><th scope=col>&lt;chr&gt;</th><th scope=col>&lt;lgl&gt;</th><th scope=col>&lt;chr&gt;</th><th scope=col>&lt;chr&gt;</th><th scope=col>⋯</th><th scope=col>&lt;int&gt;</th><th scope=col>&lt;int&gt;</th><th scope=col>&lt;int&gt;</th><th scope=col>&lt;int&gt;</th><th scope=col>&lt;chr&gt;</th><th scope=col>&lt;chr&gt;</th><th scope=col>&lt;chr&gt;</th><th scope=col>&lt;chr&gt;</th><th scope=col>&lt;chr&gt;</th><th scope=col>&lt;lgl&gt;</th></tr>\n",
       "</thead>\n",
       "<tbody>\n",
       "\t<tr><th scope=row>1</th><td>1/25/2016 14:37</td><td>Male  </td><td>Arts</td><td>NA</td><td></td><td></td><td>B.A. in English</td><td>NA</td><td>3rd Year</td><td></td><td>⋯</td><td>4</td><td>4</td><td>5</td><td>5</td><td>Teaching/Learning</td><td>Teaching/Learning           </td><td>Teaching/Learning           </td><td>Yes</td><td>Yes</td><td>NA</td></tr>\n",
       "\t<tr><th scope=row>2</th><td>1/25/2016 14:38</td><td>Female</td><td>Arts</td><td>NA</td><td></td><td></td><td>B.A. in English</td><td>NA</td><td>4th Year</td><td></td><td>⋯</td><td>4</td><td>4</td><td>5</td><td>5</td><td>Faculty          </td><td>Faculty                     </td><td>Teaching/Learning           </td><td>Yes</td><td>Yes</td><td>NA</td></tr>\n",
       "\t<tr><th scope=row>3</th><td>1/25/2016 14:40</td><td>Male  </td><td>Arts</td><td>NA</td><td></td><td></td><td>B.A. in English</td><td>NA</td><td>3rd Year</td><td></td><td>⋯</td><td>4</td><td>4</td><td>5</td><td>3</td><td>Teaching/Learning</td><td>Teaching/Learning           </td><td>Faculty                     </td><td>Yes</td><td>Yes</td><td>NA</td></tr>\n",
       "\t<tr><th scope=row>4</th><td>1/25/2016 14:43</td><td>Male  </td><td>Arts</td><td>NA</td><td></td><td></td><td>B.A. in English</td><td>NA</td><td>3rd Year</td><td></td><td>⋯</td><td>4</td><td>3</td><td>4</td><td>5</td><td>Teaching/Learning</td><td>Teaching/Learning           </td><td>Teaching/Learning           </td><td>Yes</td><td>Yes</td><td>NA</td></tr>\n",
       "\t<tr><th scope=row>5</th><td>1/25/2016 14:45</td><td>Female</td><td>Arts</td><td>NA</td><td></td><td></td><td>B.A. in English</td><td>NA</td><td>4th Year</td><td></td><td>⋯</td><td>4</td><td>4</td><td>3</td><td>2</td><td>Teaching/Learning</td><td>Faculty                     </td><td>Overall learning environment</td><td>Yes</td><td>Yes</td><td>NA</td></tr>\n",
       "\t<tr><th scope=row>6</th><td>1/25/2016 14:47</td><td>Female</td><td>Arts</td><td>NA</td><td></td><td></td><td>B.A. in English</td><td>NA</td><td>4th Year</td><td></td><td>⋯</td><td>3</td><td>4</td><td>5</td><td>5</td><td>Faculty          </td><td>Overall learning environment</td><td>Faculty                     </td><td>Yes</td><td>Yes</td><td>NA</td></tr>\n",
       "</tbody>\n",
       "</table>\n"
      ],
      "text/latex": [
       "A data.frame: 6 × 87\n",
       "\\begin{tabular}{r|lllllllllllllllllllll}\n",
       "  & Timestamp & Gender & Faculty & Engineering.Program & Law.Program & Business.Program & Arts.Program & Other.Program & Bachelor..Academic.Year.in.EU & Masters.Academic.Year.in.EU & ⋯ & Q3 & Q4 & Q5 & Q6..What.are.the.best.aspects.of.the.program.. & Q7..In.your.opinion.the.best.aspect.of.the.program.is & Q8..In.your.opinion.the.next.best.aspect.of.the.program.is & What.aspects.of.the.program.could.be.improved. & Do.you.feel.that.the.quality.of.education.improved.at.EU.over.the.last.year. & Do.you.feel.that.the.image.of.the.University.improved.over.the.last.year. & Username\\\\\n",
       "  & <chr> & <chr> & <chr> & <lgl> & <chr> & <chr> & <chr> & <lgl> & <chr> & <chr> & ⋯ & <int> & <int> & <int> & <int> & <chr> & <chr> & <chr> & <chr> & <chr> & <lgl>\\\\\n",
       "\\hline\n",
       "\t1 & 1/25/2016 14:37 & Male   & Arts & NA &  &  & B.A. in English & NA & 3rd Year &  & ⋯ & 4 & 4 & 5 & 5 & Teaching/Learning & Teaching/Learning            & Teaching/Learning            & Yes & Yes & NA\\\\\n",
       "\t2 & 1/25/2016 14:38 & Female & Arts & NA &  &  & B.A. in English & NA & 4th Year &  & ⋯ & 4 & 4 & 5 & 5 & Faculty           & Faculty                      & Teaching/Learning            & Yes & Yes & NA\\\\\n",
       "\t3 & 1/25/2016 14:40 & Male   & Arts & NA &  &  & B.A. in English & NA & 3rd Year &  & ⋯ & 4 & 4 & 5 & 3 & Teaching/Learning & Teaching/Learning            & Faculty                      & Yes & Yes & NA\\\\\n",
       "\t4 & 1/25/2016 14:43 & Male   & Arts & NA &  &  & B.A. in English & NA & 3rd Year &  & ⋯ & 4 & 3 & 4 & 5 & Teaching/Learning & Teaching/Learning            & Teaching/Learning            & Yes & Yes & NA\\\\\n",
       "\t5 & 1/25/2016 14:45 & Female & Arts & NA &  &  & B.A. in English & NA & 4th Year &  & ⋯ & 4 & 4 & 3 & 2 & Teaching/Learning & Faculty                      & Overall learning environment & Yes & Yes & NA\\\\\n",
       "\t6 & 1/25/2016 14:47 & Female & Arts & NA &  &  & B.A. in English & NA & 4th Year &  & ⋯ & 3 & 4 & 5 & 5 & Faculty           & Overall learning environment & Faculty                      & Yes & Yes & NA\\\\\n",
       "\\end{tabular}\n"
      ],
      "text/markdown": [
       "\n",
       "A data.frame: 6 × 87\n",
       "\n",
       "| <!--/--> | Timestamp &lt;chr&gt; | Gender &lt;chr&gt; | Faculty &lt;chr&gt; | Engineering.Program &lt;lgl&gt; | Law.Program &lt;chr&gt; | Business.Program &lt;chr&gt; | Arts.Program &lt;chr&gt; | Other.Program &lt;lgl&gt; | Bachelor..Academic.Year.in.EU &lt;chr&gt; | Masters.Academic.Year.in.EU &lt;chr&gt; | ⋯ ⋯ | Q3 &lt;int&gt; | Q4 &lt;int&gt; | Q5 &lt;int&gt; | Q6..What.are.the.best.aspects.of.the.program.. &lt;int&gt; | Q7..In.your.opinion.the.best.aspect.of.the.program.is &lt;chr&gt; | Q8..In.your.opinion.the.next.best.aspect.of.the.program.is &lt;chr&gt; | What.aspects.of.the.program.could.be.improved. &lt;chr&gt; | Do.you.feel.that.the.quality.of.education.improved.at.EU.over.the.last.year. &lt;chr&gt; | Do.you.feel.that.the.image.of.the.University.improved.over.the.last.year. &lt;chr&gt; | Username &lt;lgl&gt; |\n",
       "|---|---|---|---|---|---|---|---|---|---|---|---|---|---|---|---|---|---|---|---|---|---|\n",
       "| 1 | 1/25/2016 14:37 | Male   | Arts | NA | <!----> | <!----> | B.A. in English | NA | 3rd Year | <!----> | ⋯ | 4 | 4 | 5 | 5 | Teaching/Learning | Teaching/Learning            | Teaching/Learning            | Yes | Yes | NA |\n",
       "| 2 | 1/25/2016 14:38 | Female | Arts | NA | <!----> | <!----> | B.A. in English | NA | 4th Year | <!----> | ⋯ | 4 | 4 | 5 | 5 | Faculty           | Faculty                      | Teaching/Learning            | Yes | Yes | NA |\n",
       "| 3 | 1/25/2016 14:40 | Male   | Arts | NA | <!----> | <!----> | B.A. in English | NA | 3rd Year | <!----> | ⋯ | 4 | 4 | 5 | 3 | Teaching/Learning | Teaching/Learning            | Faculty                      | Yes | Yes | NA |\n",
       "| 4 | 1/25/2016 14:43 | Male   | Arts | NA | <!----> | <!----> | B.A. in English | NA | 3rd Year | <!----> | ⋯ | 4 | 3 | 4 | 5 | Teaching/Learning | Teaching/Learning            | Teaching/Learning            | Yes | Yes | NA |\n",
       "| 5 | 1/25/2016 14:45 | Female | Arts | NA | <!----> | <!----> | B.A. in English | NA | 4th Year | <!----> | ⋯ | 4 | 4 | 3 | 2 | Teaching/Learning | Faculty                      | Overall learning environment | Yes | Yes | NA |\n",
       "| 6 | 1/25/2016 14:47 | Female | Arts | NA | <!----> | <!----> | B.A. in English | NA | 4th Year | <!----> | ⋯ | 3 | 4 | 5 | 5 | Faculty           | Overall learning environment | Faculty                      | Yes | Yes | NA |\n",
       "\n"
      ],
      "text/plain": [
       "  Timestamp       Gender Faculty Engineering.Program Law.Program\n",
       "1 1/25/2016 14:37 Male   Arts    NA                             \n",
       "2 1/25/2016 14:38 Female Arts    NA                             \n",
       "3 1/25/2016 14:40 Male   Arts    NA                             \n",
       "4 1/25/2016 14:43 Male   Arts    NA                             \n",
       "5 1/25/2016 14:45 Female Arts    NA                             \n",
       "6 1/25/2016 14:47 Female Arts    NA                             \n",
       "  Business.Program Arts.Program    Other.Program Bachelor..Academic.Year.in.EU\n",
       "1                  B.A. in English NA            3rd Year                     \n",
       "2                  B.A. in English NA            4th Year                     \n",
       "3                  B.A. in English NA            3rd Year                     \n",
       "4                  B.A. in English NA            3rd Year                     \n",
       "5                  B.A. in English NA            4th Year                     \n",
       "6                  B.A. in English NA            4th Year                     \n",
       "  Masters.Academic.Year.in.EU ⋯ Q3 Q4 Q5\n",
       "1                             ⋯ 4  4  5 \n",
       "2                             ⋯ 4  4  5 \n",
       "3                             ⋯ 4  4  5 \n",
       "4                             ⋯ 4  3  4 \n",
       "5                             ⋯ 4  4  3 \n",
       "6                             ⋯ 3  4  5 \n",
       "  Q6..What.are.the.best.aspects.of.the.program..\n",
       "1 5                                             \n",
       "2 5                                             \n",
       "3 3                                             \n",
       "4 5                                             \n",
       "5 2                                             \n",
       "6 5                                             \n",
       "  Q7..In.your.opinion.the.best.aspect.of.the.program.is\n",
       "1 Teaching/Learning                                    \n",
       "2 Faculty                                              \n",
       "3 Teaching/Learning                                    \n",
       "4 Teaching/Learning                                    \n",
       "5 Teaching/Learning                                    \n",
       "6 Faculty                                              \n",
       "  Q8..In.your.opinion.the.next.best.aspect.of.the.program.is\n",
       "1 Teaching/Learning                                         \n",
       "2 Faculty                                                   \n",
       "3 Teaching/Learning                                         \n",
       "4 Teaching/Learning                                         \n",
       "5 Faculty                                                   \n",
       "6 Overall learning environment                              \n",
       "  What.aspects.of.the.program.could.be.improved.\n",
       "1 Teaching/Learning                             \n",
       "2 Teaching/Learning                             \n",
       "3 Faculty                                       \n",
       "4 Teaching/Learning                             \n",
       "5 Overall learning environment                  \n",
       "6 Faculty                                       \n",
       "  Do.you.feel.that.the.quality.of.education.improved.at.EU.over.the.last.year.\n",
       "1 Yes                                                                         \n",
       "2 Yes                                                                         \n",
       "3 Yes                                                                         \n",
       "4 Yes                                                                         \n",
       "5 Yes                                                                         \n",
       "6 Yes                                                                         \n",
       "  Do.you.feel.that.the.image.of.the.University.improved.over.the.last.year.\n",
       "1 Yes                                                                      \n",
       "2 Yes                                                                      \n",
       "3 Yes                                                                      \n",
       "4 Yes                                                                      \n",
       "5 Yes                                                                      \n",
       "6 Yes                                                                      \n",
       "  Username\n",
       "1 NA      \n",
       "2 NA      \n",
       "3 NA      \n",
       "4 NA      \n",
       "5 NA      \n",
       "6 NA      "
      ]
     },
     "metadata": {},
     "output_type": "display_data"
    }
   ],
   "source": [
    "head(studentSurvey)\n"
   ]
  },
  {
   "cell_type": "code",
   "execution_count": 64,
   "id": "db8cf401-3cd3-4c09-9184-78d3025e38a4",
   "metadata": {},
   "outputs": [],
   "source": [
    "#Data Wrangling"
   ]
  },
  {
   "cell_type": "code",
   "execution_count": 65,
   "id": "72d16170-178e-4f83-a412-3ab7ae087991",
   "metadata": {},
   "outputs": [
    {
     "data": {
      "text/html": [
       "<style>\n",
       ".list-inline {list-style: none; margin:0; padding: 0}\n",
       ".list-inline>li {display: inline-block}\n",
       ".list-inline>li:not(:last-child)::after {content: \"\\00b7\"; padding: 0 .5ex}\n",
       "</style>\n",
       "<ol class=list-inline><li>'Timestamp'</li><li>'Gender'</li><li>'Faculty'</li><li>'Engineering.Program'</li><li>'Law.Program'</li><li>'Business.Program'</li><li>'Arts.Program'</li><li>'Other.Program'</li><li>'Bachelor..Academic.Year.in.EU'</li><li>'Masters.Academic.Year.in.EU'</li><li>'H.S.C.or.Equivalent.study.medium'</li><li>'S.S.C..GPA.'</li><li>'H.S.C..GPA.'</li><li>'Did.you.ever.attend.a.Coaching.center.'</li><li>'Coaching.center.name'</li><li>'Benifits.you.received.from.the.coaching.center'</li><li>'X1st.Year.Semester.1'</li><li>'X1st.Year.Semester.2'</li><li>'X1st.Year.Semester.3'</li><li>'X2nd.Year.Semester.1'</li><li>'X2nd.Year.Semester.2'</li><li>'X2nd.Year.Semester.3'</li><li>'X3rd.Year.Semester.1'</li><li>'X3rd.Year.Semester.2'</li><li>'X3rd.Year.Semester.3'</li><li>'X4th.Year.Semester.1'</li><li>'X4th.Year.Semester.2'</li><li>'X4th.Year.Semester.3'</li><li>'Regular.Irregular'</li><li>'Classes.are.mostly'</li><li>'Area1'</li><li>'Area2'</li><li>'Area3'</li><li>'Area4'</li><li>'Area5'</li><li>'Area6'</li><li>'Area7'</li><li>'Area8'</li><li>'Area9'</li><li>'Area10'</li><li>'Area11'</li><li>'Area12'</li><li>'Item1'</li><li>'Item2'</li><li>'Item3'</li><li>'Item4'</li><li>'Item5'</li><li>'Item6'</li><li>'Item7'</li><li>'Item8'</li><li>'Item9'</li><li>'Item10'</li><li>'Item11'</li><li>'Item12'</li><li>'Item13'</li><li>'Item14'</li><li>'Item15'</li><li>'Item16'</li><li>'Item17'</li><li>'Item18'</li><li>'Item19'</li><li>'Item20'</li><li>'Item21'</li><li>'Item22'</li><li>'Item23'</li><li>'Item24'</li><li>'Item25'</li><li>'Item26'</li><li>'Item27'</li><li>'Item28'</li><li>'Item29'</li><li>'Item30'</li><li>'Item31'</li><li>'Item32'</li><li>'Item33'</li><li>'Q1'</li><li>'Q2'</li><li>'Q3'</li><li>'Q4'</li><li>'Q5'</li><li>'Q6..What.are.the.best.aspects.of.the.program..'</li><li>'Q7..In.your.opinion.the.best.aspect.of.the.program.is'</li><li>'Q8..In.your.opinion.the.next.best.aspect.of.the.program.is'</li><li>'What.aspects.of.the.program.could.be.improved.'</li><li>'Do.you.feel.that.the.quality.of.education.improved.at.EU.over.the.last.year.'</li><li>'Do.you.feel.that.the.image.of.the.University.improved.over.the.last.year.'</li><li>'Username'</li></ol>\n"
      ],
      "text/latex": [
       "\\begin{enumerate*}\n",
       "\\item 'Timestamp'\n",
       "\\item 'Gender'\n",
       "\\item 'Faculty'\n",
       "\\item 'Engineering.Program'\n",
       "\\item 'Law.Program'\n",
       "\\item 'Business.Program'\n",
       "\\item 'Arts.Program'\n",
       "\\item 'Other.Program'\n",
       "\\item 'Bachelor..Academic.Year.in.EU'\n",
       "\\item 'Masters.Academic.Year.in.EU'\n",
       "\\item 'H.S.C.or.Equivalent.study.medium'\n",
       "\\item 'S.S.C..GPA.'\n",
       "\\item 'H.S.C..GPA.'\n",
       "\\item 'Did.you.ever.attend.a.Coaching.center.'\n",
       "\\item 'Coaching.center.name'\n",
       "\\item 'Benifits.you.received.from.the.coaching.center'\n",
       "\\item 'X1st.Year.Semester.1'\n",
       "\\item 'X1st.Year.Semester.2'\n",
       "\\item 'X1st.Year.Semester.3'\n",
       "\\item 'X2nd.Year.Semester.1'\n",
       "\\item 'X2nd.Year.Semester.2'\n",
       "\\item 'X2nd.Year.Semester.3'\n",
       "\\item 'X3rd.Year.Semester.1'\n",
       "\\item 'X3rd.Year.Semester.2'\n",
       "\\item 'X3rd.Year.Semester.3'\n",
       "\\item 'X4th.Year.Semester.1'\n",
       "\\item 'X4th.Year.Semester.2'\n",
       "\\item 'X4th.Year.Semester.3'\n",
       "\\item 'Regular.Irregular'\n",
       "\\item 'Classes.are.mostly'\n",
       "\\item 'Area1'\n",
       "\\item 'Area2'\n",
       "\\item 'Area3'\n",
       "\\item 'Area4'\n",
       "\\item 'Area5'\n",
       "\\item 'Area6'\n",
       "\\item 'Area7'\n",
       "\\item 'Area8'\n",
       "\\item 'Area9'\n",
       "\\item 'Area10'\n",
       "\\item 'Area11'\n",
       "\\item 'Area12'\n",
       "\\item 'Item1'\n",
       "\\item 'Item2'\n",
       "\\item 'Item3'\n",
       "\\item 'Item4'\n",
       "\\item 'Item5'\n",
       "\\item 'Item6'\n",
       "\\item 'Item7'\n",
       "\\item 'Item8'\n",
       "\\item 'Item9'\n",
       "\\item 'Item10'\n",
       "\\item 'Item11'\n",
       "\\item 'Item12'\n",
       "\\item 'Item13'\n",
       "\\item 'Item14'\n",
       "\\item 'Item15'\n",
       "\\item 'Item16'\n",
       "\\item 'Item17'\n",
       "\\item 'Item18'\n",
       "\\item 'Item19'\n",
       "\\item 'Item20'\n",
       "\\item 'Item21'\n",
       "\\item 'Item22'\n",
       "\\item 'Item23'\n",
       "\\item 'Item24'\n",
       "\\item 'Item25'\n",
       "\\item 'Item26'\n",
       "\\item 'Item27'\n",
       "\\item 'Item28'\n",
       "\\item 'Item29'\n",
       "\\item 'Item30'\n",
       "\\item 'Item31'\n",
       "\\item 'Item32'\n",
       "\\item 'Item33'\n",
       "\\item 'Q1'\n",
       "\\item 'Q2'\n",
       "\\item 'Q3'\n",
       "\\item 'Q4'\n",
       "\\item 'Q5'\n",
       "\\item 'Q6..What.are.the.best.aspects.of.the.program..'\n",
       "\\item 'Q7..In.your.opinion.the.best.aspect.of.the.program.is'\n",
       "\\item 'Q8..In.your.opinion.the.next.best.aspect.of.the.program.is'\n",
       "\\item 'What.aspects.of.the.program.could.be.improved.'\n",
       "\\item 'Do.you.feel.that.the.quality.of.education.improved.at.EU.over.the.last.year.'\n",
       "\\item 'Do.you.feel.that.the.image.of.the.University.improved.over.the.last.year.'\n",
       "\\item 'Username'\n",
       "\\end{enumerate*}\n"
      ],
      "text/markdown": [
       "1. 'Timestamp'\n",
       "2. 'Gender'\n",
       "3. 'Faculty'\n",
       "4. 'Engineering.Program'\n",
       "5. 'Law.Program'\n",
       "6. 'Business.Program'\n",
       "7. 'Arts.Program'\n",
       "8. 'Other.Program'\n",
       "9. 'Bachelor..Academic.Year.in.EU'\n",
       "10. 'Masters.Academic.Year.in.EU'\n",
       "11. 'H.S.C.or.Equivalent.study.medium'\n",
       "12. 'S.S.C..GPA.'\n",
       "13. 'H.S.C..GPA.'\n",
       "14. 'Did.you.ever.attend.a.Coaching.center.'\n",
       "15. 'Coaching.center.name'\n",
       "16. 'Benifits.you.received.from.the.coaching.center'\n",
       "17. 'X1st.Year.Semester.1'\n",
       "18. 'X1st.Year.Semester.2'\n",
       "19. 'X1st.Year.Semester.3'\n",
       "20. 'X2nd.Year.Semester.1'\n",
       "21. 'X2nd.Year.Semester.2'\n",
       "22. 'X2nd.Year.Semester.3'\n",
       "23. 'X3rd.Year.Semester.1'\n",
       "24. 'X3rd.Year.Semester.2'\n",
       "25. 'X3rd.Year.Semester.3'\n",
       "26. 'X4th.Year.Semester.1'\n",
       "27. 'X4th.Year.Semester.2'\n",
       "28. 'X4th.Year.Semester.3'\n",
       "29. 'Regular.Irregular'\n",
       "30. 'Classes.are.mostly'\n",
       "31. 'Area1'\n",
       "32. 'Area2'\n",
       "33. 'Area3'\n",
       "34. 'Area4'\n",
       "35. 'Area5'\n",
       "36. 'Area6'\n",
       "37. 'Area7'\n",
       "38. 'Area8'\n",
       "39. 'Area9'\n",
       "40. 'Area10'\n",
       "41. 'Area11'\n",
       "42. 'Area12'\n",
       "43. 'Item1'\n",
       "44. 'Item2'\n",
       "45. 'Item3'\n",
       "46. 'Item4'\n",
       "47. 'Item5'\n",
       "48. 'Item6'\n",
       "49. 'Item7'\n",
       "50. 'Item8'\n",
       "51. 'Item9'\n",
       "52. 'Item10'\n",
       "53. 'Item11'\n",
       "54. 'Item12'\n",
       "55. 'Item13'\n",
       "56. 'Item14'\n",
       "57. 'Item15'\n",
       "58. 'Item16'\n",
       "59. 'Item17'\n",
       "60. 'Item18'\n",
       "61. 'Item19'\n",
       "62. 'Item20'\n",
       "63. 'Item21'\n",
       "64. 'Item22'\n",
       "65. 'Item23'\n",
       "66. 'Item24'\n",
       "67. 'Item25'\n",
       "68. 'Item26'\n",
       "69. 'Item27'\n",
       "70. 'Item28'\n",
       "71. 'Item29'\n",
       "72. 'Item30'\n",
       "73. 'Item31'\n",
       "74. 'Item32'\n",
       "75. 'Item33'\n",
       "76. 'Q1'\n",
       "77. 'Q2'\n",
       "78. 'Q3'\n",
       "79. 'Q4'\n",
       "80. 'Q5'\n",
       "81. 'Q6..What.are.the.best.aspects.of.the.program..'\n",
       "82. 'Q7..In.your.opinion.the.best.aspect.of.the.program.is'\n",
       "83. 'Q8..In.your.opinion.the.next.best.aspect.of.the.program.is'\n",
       "84. 'What.aspects.of.the.program.could.be.improved.'\n",
       "85. 'Do.you.feel.that.the.quality.of.education.improved.at.EU.over.the.last.year.'\n",
       "86. 'Do.you.feel.that.the.image.of.the.University.improved.over.the.last.year.'\n",
       "87. 'Username'\n",
       "\n",
       "\n"
      ],
      "text/plain": [
       " [1] \"Timestamp\"                                                                   \n",
       " [2] \"Gender\"                                                                      \n",
       " [3] \"Faculty\"                                                                     \n",
       " [4] \"Engineering.Program\"                                                         \n",
       " [5] \"Law.Program\"                                                                 \n",
       " [6] \"Business.Program\"                                                            \n",
       " [7] \"Arts.Program\"                                                                \n",
       " [8] \"Other.Program\"                                                               \n",
       " [9] \"Bachelor..Academic.Year.in.EU\"                                               \n",
       "[10] \"Masters.Academic.Year.in.EU\"                                                 \n",
       "[11] \"H.S.C.or.Equivalent.study.medium\"                                            \n",
       "[12] \"S.S.C..GPA.\"                                                                 \n",
       "[13] \"H.S.C..GPA.\"                                                                 \n",
       "[14] \"Did.you.ever.attend.a.Coaching.center.\"                                      \n",
       "[15] \"Coaching.center.name\"                                                        \n",
       "[16] \"Benifits.you.received.from.the.coaching.center\"                              \n",
       "[17] \"X1st.Year.Semester.1\"                                                        \n",
       "[18] \"X1st.Year.Semester.2\"                                                        \n",
       "[19] \"X1st.Year.Semester.3\"                                                        \n",
       "[20] \"X2nd.Year.Semester.1\"                                                        \n",
       "[21] \"X2nd.Year.Semester.2\"                                                        \n",
       "[22] \"X2nd.Year.Semester.3\"                                                        \n",
       "[23] \"X3rd.Year.Semester.1\"                                                        \n",
       "[24] \"X3rd.Year.Semester.2\"                                                        \n",
       "[25] \"X3rd.Year.Semester.3\"                                                        \n",
       "[26] \"X4th.Year.Semester.1\"                                                        \n",
       "[27] \"X4th.Year.Semester.2\"                                                        \n",
       "[28] \"X4th.Year.Semester.3\"                                                        \n",
       "[29] \"Regular.Irregular\"                                                           \n",
       "[30] \"Classes.are.mostly\"                                                          \n",
       "[31] \"Area1\"                                                                       \n",
       "[32] \"Area2\"                                                                       \n",
       "[33] \"Area3\"                                                                       \n",
       "[34] \"Area4\"                                                                       \n",
       "[35] \"Area5\"                                                                       \n",
       "[36] \"Area6\"                                                                       \n",
       "[37] \"Area7\"                                                                       \n",
       "[38] \"Area8\"                                                                       \n",
       "[39] \"Area9\"                                                                       \n",
       "[40] \"Area10\"                                                                      \n",
       "[41] \"Area11\"                                                                      \n",
       "[42] \"Area12\"                                                                      \n",
       "[43] \"Item1\"                                                                       \n",
       "[44] \"Item2\"                                                                       \n",
       "[45] \"Item3\"                                                                       \n",
       "[46] \"Item4\"                                                                       \n",
       "[47] \"Item5\"                                                                       \n",
       "[48] \"Item6\"                                                                       \n",
       "[49] \"Item7\"                                                                       \n",
       "[50] \"Item8\"                                                                       \n",
       "[51] \"Item9\"                                                                       \n",
       "[52] \"Item10\"                                                                      \n",
       "[53] \"Item11\"                                                                      \n",
       "[54] \"Item12\"                                                                      \n",
       "[55] \"Item13\"                                                                      \n",
       "[56] \"Item14\"                                                                      \n",
       "[57] \"Item15\"                                                                      \n",
       "[58] \"Item16\"                                                                      \n",
       "[59] \"Item17\"                                                                      \n",
       "[60] \"Item18\"                                                                      \n",
       "[61] \"Item19\"                                                                      \n",
       "[62] \"Item20\"                                                                      \n",
       "[63] \"Item21\"                                                                      \n",
       "[64] \"Item22\"                                                                      \n",
       "[65] \"Item23\"                                                                      \n",
       "[66] \"Item24\"                                                                      \n",
       "[67] \"Item25\"                                                                      \n",
       "[68] \"Item26\"                                                                      \n",
       "[69] \"Item27\"                                                                      \n",
       "[70] \"Item28\"                                                                      \n",
       "[71] \"Item29\"                                                                      \n",
       "[72] \"Item30\"                                                                      \n",
       "[73] \"Item31\"                                                                      \n",
       "[74] \"Item32\"                                                                      \n",
       "[75] \"Item33\"                                                                      \n",
       "[76] \"Q1\"                                                                          \n",
       "[77] \"Q2\"                                                                          \n",
       "[78] \"Q3\"                                                                          \n",
       "[79] \"Q4\"                                                                          \n",
       "[80] \"Q5\"                                                                          \n",
       "[81] \"Q6..What.are.the.best.aspects.of.the.program..\"                              \n",
       "[82] \"Q7..In.your.opinion.the.best.aspect.of.the.program.is\"                       \n",
       "[83] \"Q8..In.your.opinion.the.next.best.aspect.of.the.program.is\"                  \n",
       "[84] \"What.aspects.of.the.program.could.be.improved.\"                              \n",
       "[85] \"Do.you.feel.that.the.quality.of.education.improved.at.EU.over.the.last.year.\"\n",
       "[86] \"Do.you.feel.that.the.image.of.the.University.improved.over.the.last.year.\"   \n",
       "[87] \"Username\"                                                                    "
      ]
     },
     "metadata": {},
     "output_type": "display_data"
    }
   ],
   "source": [
    "colnames(studentSurvey)"
   ]
  },
  {
   "cell_type": "code",
   "execution_count": 66,
   "id": "36376410-7391-4db2-84b3-0bb36cc92ab5",
   "metadata": {},
   "outputs": [],
   "source": [
    "column_names <- colnames(studentSurvey)"
   ]
  },
  {
   "cell_type": "code",
   "execution_count": 67,
   "id": "11dcd8d1-c808-47e3-8a53-033fe14be0cf",
   "metadata": {},
   "outputs": [],
   "source": [
    "target_columns <- c('Area1','Area2','Area3','Area4','Area5','Area6','Area7','Area8','Area9','Area10','Area11','Area12')                   \n",
    "                    "
   ]
  },
  {
   "cell_type": "code",
   "execution_count": 68,
   "id": "cfe42c5e-3ade-4379-aa38-9c783129f84c",
   "metadata": {},
   "outputs": [
    {
     "data": {
      "text/html": [
       "<style>\n",
       ".list-inline {list-style: none; margin:0; padding: 0}\n",
       ".list-inline>li {display: inline-block}\n",
       ".list-inline>li:not(:last-child)::after {content: \"\\00b7\"; padding: 0 .5ex}\n",
       "</style>\n",
       "<ol class=list-inline><li>'Area1'</li><li>'Area2'</li><li>'Area3'</li><li>'Area4'</li><li>'Area5'</li><li>'Area6'</li><li>'Area7'</li><li>'Area8'</li><li>'Area9'</li><li>'Area10'</li><li>'Area11'</li><li>'Area12'</li></ol>\n"
      ],
      "text/latex": [
       "\\begin{enumerate*}\n",
       "\\item 'Area1'\n",
       "\\item 'Area2'\n",
       "\\item 'Area3'\n",
       "\\item 'Area4'\n",
       "\\item 'Area5'\n",
       "\\item 'Area6'\n",
       "\\item 'Area7'\n",
       "\\item 'Area8'\n",
       "\\item 'Area9'\n",
       "\\item 'Area10'\n",
       "\\item 'Area11'\n",
       "\\item 'Area12'\n",
       "\\end{enumerate*}\n"
      ],
      "text/markdown": [
       "1. 'Area1'\n",
       "2. 'Area2'\n",
       "3. 'Area3'\n",
       "4. 'Area4'\n",
       "5. 'Area5'\n",
       "6. 'Area6'\n",
       "7. 'Area7'\n",
       "8. 'Area8'\n",
       "9. 'Area9'\n",
       "10. 'Area10'\n",
       "11. 'Area11'\n",
       "12. 'Area12'\n",
       "\n",
       "\n"
      ],
      "text/plain": [
       " [1] \"Area1\"  \"Area2\"  \"Area3\"  \"Area4\"  \"Area5\"  \"Area6\"  \"Area7\"  \"Area8\" \n",
       " [9] \"Area9\"  \"Area10\" \"Area11\" \"Area12\""
      ]
     },
     "metadata": {},
     "output_type": "display_data"
    }
   ],
   "source": [
    "target_columns"
   ]
  },
  {
   "cell_type": "code",
   "execution_count": 69,
   "id": "745fce49-d865-4c9a-89ad-626afcf44ba9",
   "metadata": {},
   "outputs": [],
   "source": [
    "indexes <- which(column_names %in% target_columns)"
   ]
  },
  {
   "cell_type": "code",
   "execution_count": 70,
   "id": "6e81e2e8-f331-4b7d-91da-512811884d5e",
   "metadata": {},
   "outputs": [
    {
     "data": {
      "text/html": [
       "<style>\n",
       ".list-inline {list-style: none; margin:0; padding: 0}\n",
       ".list-inline>li {display: inline-block}\n",
       ".list-inline>li:not(:last-child)::after {content: \"\\00b7\"; padding: 0 .5ex}\n",
       "</style>\n",
       "<ol class=list-inline><li>31</li><li>32</li><li>33</li><li>34</li><li>35</li><li>36</li><li>37</li><li>38</li><li>39</li><li>40</li><li>41</li><li>42</li></ol>\n"
      ],
      "text/latex": [
       "\\begin{enumerate*}\n",
       "\\item 31\n",
       "\\item 32\n",
       "\\item 33\n",
       "\\item 34\n",
       "\\item 35\n",
       "\\item 36\n",
       "\\item 37\n",
       "\\item 38\n",
       "\\item 39\n",
       "\\item 40\n",
       "\\item 41\n",
       "\\item 42\n",
       "\\end{enumerate*}\n"
      ],
      "text/markdown": [
       "1. 31\n",
       "2. 32\n",
       "3. 33\n",
       "4. 34\n",
       "5. 35\n",
       "6. 36\n",
       "7. 37\n",
       "8. 38\n",
       "9. 39\n",
       "10. 40\n",
       "11. 41\n",
       "12. 42\n",
       "\n",
       "\n"
      ],
      "text/plain": [
       " [1] 31 32 33 34 35 36 37 38 39 40 41 42"
      ]
     },
     "metadata": {},
     "output_type": "display_data"
    }
   ],
   "source": [
    "indexes"
   ]
  },
  {
   "cell_type": "code",
   "execution_count": 71,
   "id": "fa87f7a9-d3b5-4ef3-92bf-de0bfa1b4281",
   "metadata": {},
   "outputs": [],
   "source": [
    "studentSurveyArea <- studentSurvey[,31:42]"
   ]
  },
  {
   "cell_type": "code",
   "execution_count": 72,
   "id": "231029e5-719c-41eb-bfd1-c7be7722e154",
   "metadata": {},
   "outputs": [
    {
     "data": {
      "text/html": [
       "<table class=\"dataframe\">\n",
       "<caption>A data.frame: 6 × 12</caption>\n",
       "<thead>\n",
       "\t<tr><th></th><th scope=col>Area1</th><th scope=col>Area2</th><th scope=col>Area3</th><th scope=col>Area4</th><th scope=col>Area5</th><th scope=col>Area6</th><th scope=col>Area7</th><th scope=col>Area8</th><th scope=col>Area9</th><th scope=col>Area10</th><th scope=col>Area11</th><th scope=col>Area12</th></tr>\n",
       "\t<tr><th></th><th scope=col>&lt;int&gt;</th><th scope=col>&lt;int&gt;</th><th scope=col>&lt;int&gt;</th><th scope=col>&lt;int&gt;</th><th scope=col>&lt;int&gt;</th><th scope=col>&lt;int&gt;</th><th scope=col>&lt;int&gt;</th><th scope=col>&lt;int&gt;</th><th scope=col>&lt;int&gt;</th><th scope=col>&lt;int&gt;</th><th scope=col>&lt;int&gt;</th><th scope=col>&lt;int&gt;</th></tr>\n",
       "</thead>\n",
       "<tbody>\n",
       "\t<tr><th scope=row>1</th><td>5</td><td>5</td><td>5</td><td>5</td><td>5</td><td>5</td><td>5</td><td>5</td><td>5</td><td>5</td><td>5</td><td>5</td></tr>\n",
       "\t<tr><th scope=row>2</th><td>4</td><td>5</td><td>4</td><td>4</td><td>4</td><td>5</td><td>4</td><td>5</td><td>4</td><td>4</td><td>5</td><td>5</td></tr>\n",
       "\t<tr><th scope=row>3</th><td>4</td><td>5</td><td>5</td><td>5</td><td>5</td><td>5</td><td>5</td><td>5</td><td>4</td><td>5</td><td>5</td><td>5</td></tr>\n",
       "\t<tr><th scope=row>4</th><td>5</td><td>5</td><td>5</td><td>5</td><td>5</td><td>5</td><td>5</td><td>5</td><td>5</td><td>5</td><td>5</td><td>5</td></tr>\n",
       "\t<tr><th scope=row>5</th><td>5</td><td>5</td><td>5</td><td>5</td><td>4</td><td>5</td><td>5</td><td>4</td><td>5</td><td>5</td><td>4</td><td>4</td></tr>\n",
       "\t<tr><th scope=row>6</th><td>5</td><td>5</td><td>4</td><td>5</td><td>5</td><td>5</td><td>5</td><td>5</td><td>5</td><td>4</td><td>5</td><td>5</td></tr>\n",
       "</tbody>\n",
       "</table>\n"
      ],
      "text/latex": [
       "A data.frame: 6 × 12\n",
       "\\begin{tabular}{r|llllllllllll}\n",
       "  & Area1 & Area2 & Area3 & Area4 & Area5 & Area6 & Area7 & Area8 & Area9 & Area10 & Area11 & Area12\\\\\n",
       "  & <int> & <int> & <int> & <int> & <int> & <int> & <int> & <int> & <int> & <int> & <int> & <int>\\\\\n",
       "\\hline\n",
       "\t1 & 5 & 5 & 5 & 5 & 5 & 5 & 5 & 5 & 5 & 5 & 5 & 5\\\\\n",
       "\t2 & 4 & 5 & 4 & 4 & 4 & 5 & 4 & 5 & 4 & 4 & 5 & 5\\\\\n",
       "\t3 & 4 & 5 & 5 & 5 & 5 & 5 & 5 & 5 & 4 & 5 & 5 & 5\\\\\n",
       "\t4 & 5 & 5 & 5 & 5 & 5 & 5 & 5 & 5 & 5 & 5 & 5 & 5\\\\\n",
       "\t5 & 5 & 5 & 5 & 5 & 4 & 5 & 5 & 4 & 5 & 5 & 4 & 4\\\\\n",
       "\t6 & 5 & 5 & 4 & 5 & 5 & 5 & 5 & 5 & 5 & 4 & 5 & 5\\\\\n",
       "\\end{tabular}\n"
      ],
      "text/markdown": [
       "\n",
       "A data.frame: 6 × 12\n",
       "\n",
       "| <!--/--> | Area1 &lt;int&gt; | Area2 &lt;int&gt; | Area3 &lt;int&gt; | Area4 &lt;int&gt; | Area5 &lt;int&gt; | Area6 &lt;int&gt; | Area7 &lt;int&gt; | Area8 &lt;int&gt; | Area9 &lt;int&gt; | Area10 &lt;int&gt; | Area11 &lt;int&gt; | Area12 &lt;int&gt; |\n",
       "|---|---|---|---|---|---|---|---|---|---|---|---|---|\n",
       "| 1 | 5 | 5 | 5 | 5 | 5 | 5 | 5 | 5 | 5 | 5 | 5 | 5 |\n",
       "| 2 | 4 | 5 | 4 | 4 | 4 | 5 | 4 | 5 | 4 | 4 | 5 | 5 |\n",
       "| 3 | 4 | 5 | 5 | 5 | 5 | 5 | 5 | 5 | 4 | 5 | 5 | 5 |\n",
       "| 4 | 5 | 5 | 5 | 5 | 5 | 5 | 5 | 5 | 5 | 5 | 5 | 5 |\n",
       "| 5 | 5 | 5 | 5 | 5 | 4 | 5 | 5 | 4 | 5 | 5 | 4 | 4 |\n",
       "| 6 | 5 | 5 | 4 | 5 | 5 | 5 | 5 | 5 | 5 | 4 | 5 | 5 |\n",
       "\n"
      ],
      "text/plain": [
       "  Area1 Area2 Area3 Area4 Area5 Area6 Area7 Area8 Area9 Area10 Area11 Area12\n",
       "1 5     5     5     5     5     5     5     5     5     5      5      5     \n",
       "2 4     5     4     4     4     5     4     5     4     4      5      5     \n",
       "3 4     5     5     5     5     5     5     5     4     5      5      5     \n",
       "4 5     5     5     5     5     5     5     5     5     5      5      5     \n",
       "5 5     5     5     5     4     5     5     4     5     5      4      4     \n",
       "6 5     5     4     5     5     5     5     5     5     4      5      5     "
      ]
     },
     "metadata": {},
     "output_type": "display_data"
    }
   ],
   "source": [
    "head(studentSurveyArea)\n"
   ]
  },
  {
   "cell_type": "code",
   "execution_count": 73,
   "id": "fc378253-7c8f-4595-a804-9bacfcfd5381",
   "metadata": {},
   "outputs": [],
   "source": [
    "#Omits Wrangling"
   ]
  },
  {
   "cell_type": "code",
   "execution_count": 74,
   "id": "17ece897-bdfa-4994-abf5-d887e8bc6890",
   "metadata": {},
   "outputs": [],
   "source": [
    "studentSurveyArea2 <- NaRV.omit(studentSurveyArea)"
   ]
  },
  {
   "cell_type": "code",
   "execution_count": 75,
   "id": "242b9048-60e1-4e04-9dbf-ea3c5af3132b",
   "metadata": {},
   "outputs": [],
   "source": [
    "#Run Corelation Matrix"
   ]
  },
  {
   "cell_type": "code",
   "execution_count": 76,
   "id": "4d911cda-e74f-4a5c-b660-c6663bf25aef",
   "metadata": {},
   "outputs": [
    {
     "data": {
      "text/html": [
       "<table class=\"dataframe\">\n",
       "<caption>A matrix: 12 × 12 of type dbl</caption>\n",
       "<thead>\n",
       "\t<tr><th></th><th scope=col>Area1</th><th scope=col>Area2</th><th scope=col>Area3</th><th scope=col>Area4</th><th scope=col>Area5</th><th scope=col>Area6</th><th scope=col>Area7</th><th scope=col>Area8</th><th scope=col>Area9</th><th scope=col>Area10</th><th scope=col>Area11</th><th scope=col>Area12</th></tr>\n",
       "</thead>\n",
       "<tbody>\n",
       "\t<tr><th scope=row>Area1</th><td>1.00</td><td>0.55</td><td>0.56</td><td>0.43</td><td>0.42</td><td>0.49</td><td>0.48</td><td>0.50</td><td>0.47</td><td>0.49</td><td>0.43</td><td>0.46</td></tr>\n",
       "\t<tr><th scope=row>Area2</th><td>0.55</td><td>1.00</td><td>0.53</td><td>0.50</td><td>0.50</td><td>0.53</td><td>0.57</td><td>0.45</td><td>0.41</td><td>0.54</td><td>0.53</td><td>0.54</td></tr>\n",
       "\t<tr><th scope=row>Area3</th><td>0.56</td><td>0.53</td><td>1.00</td><td>0.47</td><td>0.48</td><td>0.59</td><td>0.54</td><td>0.49</td><td>0.45</td><td>0.51</td><td>0.50</td><td>0.56</td></tr>\n",
       "\t<tr><th scope=row>Area4</th><td>0.43</td><td>0.50</td><td>0.47</td><td>1.00</td><td>0.54</td><td>0.50</td><td>0.47</td><td>0.43</td><td>0.35</td><td>0.45</td><td>0.46</td><td>0.53</td></tr>\n",
       "\t<tr><th scope=row>Area5</th><td>0.42</td><td>0.50</td><td>0.48</td><td>0.54</td><td>1.00</td><td>0.48</td><td>0.47</td><td>0.35</td><td>0.39</td><td>0.47</td><td>0.52</td><td>0.57</td></tr>\n",
       "\t<tr><th scope=row>Area6</th><td>0.49</td><td>0.53</td><td>0.59</td><td>0.50</td><td>0.48</td><td>1.00</td><td>0.63</td><td>0.55</td><td>0.47</td><td>0.56</td><td>0.56</td><td>0.57</td></tr>\n",
       "\t<tr><th scope=row>Area7</th><td>0.48</td><td>0.57</td><td>0.54</td><td>0.47</td><td>0.47</td><td>0.63</td><td>1.00</td><td>0.47</td><td>0.43</td><td>0.54</td><td>0.58</td><td>0.58</td></tr>\n",
       "\t<tr><th scope=row>Area8</th><td>0.50</td><td>0.45</td><td>0.49</td><td>0.43</td><td>0.35</td><td>0.55</td><td>0.47</td><td>1.00</td><td>0.41</td><td>0.43</td><td>0.41</td><td>0.51</td></tr>\n",
       "\t<tr><th scope=row>Area9</th><td>0.47</td><td>0.41</td><td>0.45</td><td>0.35</td><td>0.39</td><td>0.47</td><td>0.43</td><td>0.41</td><td>1.00</td><td>0.46</td><td>0.47</td><td>0.42</td></tr>\n",
       "\t<tr><th scope=row>Area10</th><td>0.49</td><td>0.54</td><td>0.51</td><td>0.45</td><td>0.47</td><td>0.56</td><td>0.54</td><td>0.43</td><td>0.46</td><td>1.00</td><td>0.53</td><td>0.55</td></tr>\n",
       "\t<tr><th scope=row>Area11</th><td>0.43</td><td>0.53</td><td>0.50</td><td>0.46</td><td>0.52</td><td>0.56</td><td>0.58</td><td>0.41</td><td>0.47</td><td>0.53</td><td>1.00</td><td>0.63</td></tr>\n",
       "\t<tr><th scope=row>Area12</th><td>0.46</td><td>0.54</td><td>0.56</td><td>0.53</td><td>0.57</td><td>0.57</td><td>0.58</td><td>0.51</td><td>0.42</td><td>0.55</td><td>0.63</td><td>1.00</td></tr>\n",
       "</tbody>\n",
       "</table>\n"
      ],
      "text/latex": [
       "A matrix: 12 × 12 of type dbl\n",
       "\\begin{tabular}{r|llllllllllll}\n",
       "  & Area1 & Area2 & Area3 & Area4 & Area5 & Area6 & Area7 & Area8 & Area9 & Area10 & Area11 & Area12\\\\\n",
       "\\hline\n",
       "\tArea1 & 1.00 & 0.55 & 0.56 & 0.43 & 0.42 & 0.49 & 0.48 & 0.50 & 0.47 & 0.49 & 0.43 & 0.46\\\\\n",
       "\tArea2 & 0.55 & 1.00 & 0.53 & 0.50 & 0.50 & 0.53 & 0.57 & 0.45 & 0.41 & 0.54 & 0.53 & 0.54\\\\\n",
       "\tArea3 & 0.56 & 0.53 & 1.00 & 0.47 & 0.48 & 0.59 & 0.54 & 0.49 & 0.45 & 0.51 & 0.50 & 0.56\\\\\n",
       "\tArea4 & 0.43 & 0.50 & 0.47 & 1.00 & 0.54 & 0.50 & 0.47 & 0.43 & 0.35 & 0.45 & 0.46 & 0.53\\\\\n",
       "\tArea5 & 0.42 & 0.50 & 0.48 & 0.54 & 1.00 & 0.48 & 0.47 & 0.35 & 0.39 & 0.47 & 0.52 & 0.57\\\\\n",
       "\tArea6 & 0.49 & 0.53 & 0.59 & 0.50 & 0.48 & 1.00 & 0.63 & 0.55 & 0.47 & 0.56 & 0.56 & 0.57\\\\\n",
       "\tArea7 & 0.48 & 0.57 & 0.54 & 0.47 & 0.47 & 0.63 & 1.00 & 0.47 & 0.43 & 0.54 & 0.58 & 0.58\\\\\n",
       "\tArea8 & 0.50 & 0.45 & 0.49 & 0.43 & 0.35 & 0.55 & 0.47 & 1.00 & 0.41 & 0.43 & 0.41 & 0.51\\\\\n",
       "\tArea9 & 0.47 & 0.41 & 0.45 & 0.35 & 0.39 & 0.47 & 0.43 & 0.41 & 1.00 & 0.46 & 0.47 & 0.42\\\\\n",
       "\tArea10 & 0.49 & 0.54 & 0.51 & 0.45 & 0.47 & 0.56 & 0.54 & 0.43 & 0.46 & 1.00 & 0.53 & 0.55\\\\\n",
       "\tArea11 & 0.43 & 0.53 & 0.50 & 0.46 & 0.52 & 0.56 & 0.58 & 0.41 & 0.47 & 0.53 & 1.00 & 0.63\\\\\n",
       "\tArea12 & 0.46 & 0.54 & 0.56 & 0.53 & 0.57 & 0.57 & 0.58 & 0.51 & 0.42 & 0.55 & 0.63 & 1.00\\\\\n",
       "\\end{tabular}\n"
      ],
      "text/markdown": [
       "\n",
       "A matrix: 12 × 12 of type dbl\n",
       "\n",
       "| <!--/--> | Area1 | Area2 | Area3 | Area4 | Area5 | Area6 | Area7 | Area8 | Area9 | Area10 | Area11 | Area12 |\n",
       "|---|---|---|---|---|---|---|---|---|---|---|---|---|\n",
       "| Area1 | 1.00 | 0.55 | 0.56 | 0.43 | 0.42 | 0.49 | 0.48 | 0.50 | 0.47 | 0.49 | 0.43 | 0.46 |\n",
       "| Area2 | 0.55 | 1.00 | 0.53 | 0.50 | 0.50 | 0.53 | 0.57 | 0.45 | 0.41 | 0.54 | 0.53 | 0.54 |\n",
       "| Area3 | 0.56 | 0.53 | 1.00 | 0.47 | 0.48 | 0.59 | 0.54 | 0.49 | 0.45 | 0.51 | 0.50 | 0.56 |\n",
       "| Area4 | 0.43 | 0.50 | 0.47 | 1.00 | 0.54 | 0.50 | 0.47 | 0.43 | 0.35 | 0.45 | 0.46 | 0.53 |\n",
       "| Area5 | 0.42 | 0.50 | 0.48 | 0.54 | 1.00 | 0.48 | 0.47 | 0.35 | 0.39 | 0.47 | 0.52 | 0.57 |\n",
       "| Area6 | 0.49 | 0.53 | 0.59 | 0.50 | 0.48 | 1.00 | 0.63 | 0.55 | 0.47 | 0.56 | 0.56 | 0.57 |\n",
       "| Area7 | 0.48 | 0.57 | 0.54 | 0.47 | 0.47 | 0.63 | 1.00 | 0.47 | 0.43 | 0.54 | 0.58 | 0.58 |\n",
       "| Area8 | 0.50 | 0.45 | 0.49 | 0.43 | 0.35 | 0.55 | 0.47 | 1.00 | 0.41 | 0.43 | 0.41 | 0.51 |\n",
       "| Area9 | 0.47 | 0.41 | 0.45 | 0.35 | 0.39 | 0.47 | 0.43 | 0.41 | 1.00 | 0.46 | 0.47 | 0.42 |\n",
       "| Area10 | 0.49 | 0.54 | 0.51 | 0.45 | 0.47 | 0.56 | 0.54 | 0.43 | 0.46 | 1.00 | 0.53 | 0.55 |\n",
       "| Area11 | 0.43 | 0.53 | 0.50 | 0.46 | 0.52 | 0.56 | 0.58 | 0.41 | 0.47 | 0.53 | 1.00 | 0.63 |\n",
       "| Area12 | 0.46 | 0.54 | 0.56 | 0.53 | 0.57 | 0.57 | 0.58 | 0.51 | 0.42 | 0.55 | 0.63 | 1.00 |\n",
       "\n"
      ],
      "text/plain": [
       "       Area1 Area2 Area3 Area4 Area5 Area6 Area7 Area8 Area9 Area10 Area11\n",
       "Area1  1.00  0.55  0.56  0.43  0.42  0.49  0.48  0.50  0.47  0.49   0.43  \n",
       "Area2  0.55  1.00  0.53  0.50  0.50  0.53  0.57  0.45  0.41  0.54   0.53  \n",
       "Area3  0.56  0.53  1.00  0.47  0.48  0.59  0.54  0.49  0.45  0.51   0.50  \n",
       "Area4  0.43  0.50  0.47  1.00  0.54  0.50  0.47  0.43  0.35  0.45   0.46  \n",
       "Area5  0.42  0.50  0.48  0.54  1.00  0.48  0.47  0.35  0.39  0.47   0.52  \n",
       "Area6  0.49  0.53  0.59  0.50  0.48  1.00  0.63  0.55  0.47  0.56   0.56  \n",
       "Area7  0.48  0.57  0.54  0.47  0.47  0.63  1.00  0.47  0.43  0.54   0.58  \n",
       "Area8  0.50  0.45  0.49  0.43  0.35  0.55  0.47  1.00  0.41  0.43   0.41  \n",
       "Area9  0.47  0.41  0.45  0.35  0.39  0.47  0.43  0.41  1.00  0.46   0.47  \n",
       "Area10 0.49  0.54  0.51  0.45  0.47  0.56  0.54  0.43  0.46  1.00   0.53  \n",
       "Area11 0.43  0.53  0.50  0.46  0.52  0.56  0.58  0.41  0.47  0.53   1.00  \n",
       "Area12 0.46  0.54  0.56  0.53  0.57  0.57  0.58  0.51  0.42  0.55   0.63  \n",
       "       Area12\n",
       "Area1  0.46  \n",
       "Area2  0.54  \n",
       "Area3  0.56  \n",
       "Area4  0.53  \n",
       "Area5  0.57  \n",
       "Area6  0.57  \n",
       "Area7  0.58  \n",
       "Area8  0.51  \n",
       "Area9  0.42  \n",
       "Area10 0.55  \n",
       "Area11 0.63  \n",
       "Area12 1.00  "
      ]
     },
     "metadata": {},
     "output_type": "display_data"
    }
   ],
   "source": [
    "studentSurveyAreaMatrix <- cor(studentSurveyArea2)\n",
    "View(round(studentSurveyAreaMatrix, 2))"
   ]
  },
  {
   "cell_type": "code",
   "execution_count": 77,
   "id": "57f0984d-15e3-4759-8464-dc2185168502",
   "metadata": {},
   "outputs": [],
   "source": [
    "#Items need to be between .3 and .9 "
   ]
  },
  {
   "cell_type": "code",
   "execution_count": 78,
   "id": "efef9730-8f84-41c9-9acd-97e99a524633",
   "metadata": {},
   "outputs": [],
   "source": [
    "#Run Bartlett's Test"
   ]
  },
  {
   "cell_type": "code",
   "execution_count": 79,
   "id": "b96f0ea1-f8ee-40a8-9af7-d84116946a5f",
   "metadata": {},
   "outputs": [
    {
     "name": "stderr",
     "output_type": "stream",
     "text": [
      "R was not square, finding R from data\n",
      "\n"
     ]
    },
    {
     "data": {
      "text/html": [
       "<dl>\n",
       "\t<dt>$chisq</dt>\n",
       "\t\t<dd>2807.7070724851</dd>\n",
       "\t<dt>$p.value</dt>\n",
       "\t\t<dd>0</dd>\n",
       "\t<dt>$df</dt>\n",
       "\t\t<dd>66</dd>\n",
       "</dl>\n"
      ],
      "text/latex": [
       "\\begin{description}\n",
       "\\item[\\$chisq] 2807.7070724851\n",
       "\\item[\\$p.value] 0\n",
       "\\item[\\$df] 66\n",
       "\\end{description}\n"
      ],
      "text/markdown": [
       "$chisq\n",
       ":   2807.7070724851\n",
       "$p.value\n",
       ":   0\n",
       "$df\n",
       ":   66\n",
       "\n",
       "\n"
      ],
      "text/plain": [
       "$chisq\n",
       "[1] 2807.707\n",
       "\n",
       "$p.value\n",
       "[1] 0\n",
       "\n",
       "$df\n",
       "[1] 66\n"
      ]
     },
     "metadata": {},
     "output_type": "display_data"
    }
   ],
   "source": [
    "cortest.bartlett(studentSurveyArea2)"
   ]
  },
  {
   "cell_type": "code",
   "execution_count": 80,
   "id": "5d8d5a56-e619-4868-864e-1dae63c5986a",
   "metadata": {},
   "outputs": [],
   "source": [
    "# There are suitable correlations to continue to the factor analysis"
   ]
  },
  {
   "cell_type": "code",
   "execution_count": 81,
   "id": "7e1e9667-64ed-4f90-a1d5-b43b795d4404",
   "metadata": {},
   "outputs": [],
   "source": [
    "#Determinant of the Correlation Matrix"
   ]
  },
  {
   "cell_type": "code",
   "execution_count": 82,
   "id": "ea8dbd0e-b19d-4f22-be45-9592c61d85b6",
   "metadata": {},
   "outputs": [
    {
     "data": {
      "text/html": [
       "0.00218064461136125"
      ],
      "text/latex": [
       "0.00218064461136125"
      ],
      "text/markdown": [
       "0.00218064461136125"
      ],
      "text/plain": [
       "[1] 0.002180645"
      ]
     },
     "metadata": {},
     "output_type": "display_data"
    }
   ],
   "source": [
    "det(studentSurveyAreaMatrix)"
   ]
  },
  {
   "cell_type": "code",
   "execution_count": 83,
   "id": "6e7a55b1-8dd7-41a0-b51e-5b9a2dcb1488",
   "metadata": {},
   "outputs": [],
   "source": [
    "#We are good. There is significant relation between the variables. The number needs to be greater \n",
    "#than .00001"
   ]
  },
  {
   "cell_type": "code",
   "execution_count": 84,
   "id": "e08f6497-278c-4bf9-b972-2f0d9b295769",
   "metadata": {},
   "outputs": [],
   "source": [
    "#Initial Pass to Determine Approximate Number of Factors"
   ]
  },
  {
   "cell_type": "code",
   "execution_count": 85,
   "id": "03a3143c-301a-472c-8700-539ecd1f7089",
   "metadata": {},
   "outputs": [
    {
     "data": {
      "text/plain": [
       "Principal Components Analysis\n",
       "Call: principal(r = studentSurveyArea2, nfactors = 12, rotate = \"none\")\n",
       "Standardized loadings (pattern matrix) based upon correlation matrix\n",
       "        PC1   PC2   PC3   PC4   PC5   PC6   PC7   PC8   PC9  PC10  PC11  PC12\n",
       "Area1  0.71  0.35  0.19  0.34 -0.22 -0.14  0.07  0.02 -0.04  0.37 -0.01 -0.11\n",
       "Area2  0.76 -0.05  0.09  0.11 -0.39 -0.02  0.25  0.19  0.08 -0.37 -0.08 -0.06\n",
       "Area3  0.76  0.14  0.12  0.05 -0.08 -0.22 -0.45 -0.16 -0.19 -0.20  0.00  0.14\n",
       "Area4  0.69 -0.32  0.34  0.18  0.22  0.32 -0.04  0.21 -0.26  0.03  0.00  0.04\n",
       "Area5  0.70 -0.43  0.01  0.28  0.15 -0.15 -0.07 -0.12  0.41  0.05 -0.02  0.08\n",
       "Area6  0.79  0.08 -0.01 -0.29  0.05  0.15 -0.25  0.06  0.16  0.04 -0.28 -0.29\n",
       "Area7  0.77 -0.03 -0.09 -0.32 -0.19  0.03 -0.11  0.29  0.13  0.15  0.30  0.16\n",
       "Area8  0.68  0.37  0.36 -0.25  0.30 -0.02  0.25 -0.10  0.13 -0.06 -0.03  0.17\n",
       "Area9  0.64  0.36 -0.46  0.29  0.32  0.08  0.00  0.16  0.01 -0.13  0.10 -0.02\n",
       "Area10 0.74  0.00 -0.20  0.01 -0.22  0.41  0.08 -0.42 -0.02  0.04  0.03  0.08\n",
       "Area11 0.75 -0.20 -0.33 -0.15  0.03 -0.22  0.17  0.06 -0.23  0.13 -0.29  0.16\n",
       "Area12 0.79 -0.21 -0.01 -0.16  0.13 -0.20  0.14 -0.17 -0.15 -0.04  0.28 -0.30\n",
       "       h2       u2 com\n",
       "Area1   1 -1.1e-15 3.3\n",
       "Area2   1  3.3e-15 2.6\n",
       "Area3   1  3.3e-16 2.6\n",
       "Area4   1 -4.4e-16 3.6\n",
       "Area5   1  2.2e-16 3.2\n",
       "Area6   1  6.7e-16 2.4\n",
       "Area7   1  0.0e+00 2.6\n",
       "Area8   1  2.2e-15 3.8\n",
       "Area9   1  3.3e-16 4.0\n",
       "Area10  1  4.4e-16 2.7\n",
       "Area11  1  4.4e-16 2.8\n",
       "Area12  1  1.1e-16 2.4\n",
       "\n",
       "                       PC1  PC2  PC3  PC4  PC5  PC6  PC7  PC8  PC9 PC10 PC11\n",
       "SS loadings           6.48 0.79 0.67 0.62 0.58 0.48 0.47 0.46 0.41 0.38 0.35\n",
       "Proportion Var        0.54 0.07 0.06 0.05 0.05 0.04 0.04 0.04 0.03 0.03 0.03\n",
       "Cumulative Var        0.54 0.61 0.66 0.71 0.76 0.80 0.84 0.88 0.91 0.94 0.97\n",
       "Proportion Explained  0.54 0.07 0.06 0.05 0.05 0.04 0.04 0.04 0.03 0.03 0.03\n",
       "Cumulative Proportion 0.54 0.61 0.66 0.71 0.76 0.80 0.84 0.88 0.91 0.94 0.97\n",
       "                      PC12\n",
       "SS loadings           0.31\n",
       "Proportion Var        0.03\n",
       "Cumulative Var        1.00\n",
       "Proportion Explained  0.03\n",
       "Cumulative Proportion 1.00\n",
       "\n",
       "Mean item complexity =  3\n",
       "Test of the hypothesis that 12 components are sufficient.\n",
       "\n",
       "The root mean square of the residuals (RMSR) is  0 \n",
       " with the empirical chi square  0  with prob <  NA \n",
       "\n",
       "Fit based upon off diagonal values = 1"
      ]
     },
     "metadata": {},
     "output_type": "display_data"
    }
   ],
   "source": [
    "pcModel <- principal(studentSurveyArea2, nfactors = 12, rotate = \"none\")\n",
    "pcModel"
   ]
  },
  {
   "cell_type": "code",
   "execution_count": 86,
   "id": "43084c1e-29fa-4dea-9a52-59a0b9f5c072",
   "metadata": {},
   "outputs": [],
   "source": [
    "# Looking at the SS loadings for items >1 eigenvalues. There is only one factor. This\n",
    "#models seems a legit fit. "
   ]
  },
  {
   "cell_type": "code",
   "execution_count": 87,
   "id": "f034cb63-ba53-4b1d-8faa-629039a98ef2",
   "metadata": {},
   "outputs": [],
   "source": [
    "#Scee Plotting"
   ]
  },
  {
   "cell_type": "code",
   "execution_count": 88,
   "id": "cb7819b6-51ca-4058-8de9-a59f1d3a719d",
   "metadata": {},
   "outputs": [
    {
     "data": {
      "image/png": "[encoded data removed]",
      "text/plain": [
       "plot without title"
      ]
     },
     "metadata": {
      "image/png": {
       "height": 420,
       "width": 420
      }
     },
     "output_type": "display_data"
    }
   ],
   "source": [
    "plot(pcModel$values, type=\"b\")"
   ]
  },
  {
   "cell_type": "code",
   "execution_count": 89,
   "id": "86a5e2a6-fb10-410b-b5e7-23be39d37d92",
   "metadata": {},
   "outputs": [],
   "source": [
    "#There is one factor fall off between 1 and 2 as well as possibly a slighter factor between\n",
    "#5 and 6, but we will stick with one for sure. This also shows the model fits. "
   ]
  },
  {
   "cell_type": "code",
   "execution_count": 90,
   "id": "67f50334-6e7d-4a0f-bd8e-c8ad127de547",
   "metadata": {},
   "outputs": [],
   "source": [
    "#Chronbach's Alpha.... Interpretting Output for Inter-Rater Reliability"
   ]
  },
  {
   "cell_type": "code",
   "execution_count": 91,
   "id": "3f15724b-5bda-4efa-90c1-a28437877fcf",
   "metadata": {},
   "outputs": [
    {
     "data": {
      "text/plain": [
       "\n",
       "Reliability analysis   \n",
       "Call: alpha(x = studentSurveyArea2)\n",
       "\n",
       "  raw_alpha std.alpha G6(smc) average_r S/N    ase mean  sd median_r\n",
       "      0.92      0.92    0.92       0.5  12 0.0054  4.2 0.7     0.49\n",
       "\n",
       "    95% confidence boundaries \n",
       "         lower alpha upper\n",
       "Feldt     0.91  0.92  0.93\n",
       "Duhachek  0.91  0.92  0.93\n",
       "\n",
       " Reliability if an item is dropped:\n",
       "       raw_alpha std.alpha G6(smc) average_r S/N alpha se  var.r med.r\n",
       "Area1       0.91      0.92    0.91      0.50  11   0.0058 0.0041  0.50\n",
       "Area2       0.91      0.91    0.91      0.49  11   0.0060 0.0040  0.48\n",
       "Area3       0.91      0.91    0.91      0.49  11   0.0060 0.0041  0.49\n",
       "Area4       0.92      0.92    0.91      0.50  11   0.0058 0.0038  0.50\n",
       "Area5       0.92      0.92    0.91      0.50  11   0.0058 0.0036  0.50\n",
       "Area6       0.91      0.91    0.91      0.49  10   0.0061 0.0036  0.48\n",
       "Area7       0.91      0.91    0.91      0.49  11   0.0060 0.0036  0.49\n",
       "Area8       0.92      0.92    0.92      0.50  11   0.0057 0.0035  0.50\n",
       "Area9       0.92      0.92    0.92      0.51  11   0.0056 0.0032  0.51\n",
       "Area10      0.91      0.91    0.91      0.49  11   0.0059 0.0041  0.49\n",
       "Area11      0.91      0.91    0.91      0.49  11   0.0059 0.0037  0.49\n",
       "Area12      0.91      0.91    0.91      0.49  10   0.0061 0.0035  0.48\n",
       "\n",
       " Item statistics \n",
       "         n raw.r std.r r.cor r.drop mean   sd\n",
       "Area1  464  0.71  0.72  0.68   0.65  4.3 0.83\n",
       "Area2  464  0.75  0.76  0.73   0.70  4.2 0.84\n",
       "Area3  464  0.77  0.76  0.73   0.71  4.1 1.04\n",
       "Area4  464  0.70  0.70  0.66   0.63  4.3 1.01\n",
       "Area5  464  0.70  0.70  0.67   0.64  4.4 0.92\n",
       "Area6  464  0.79  0.79  0.77   0.74  4.0 1.05\n",
       "Area7  464  0.77  0.77  0.74   0.71  4.1 0.99\n",
       "Area8  464  0.69  0.68  0.64   0.61  4.1 1.13\n",
       "Area9  464  0.65  0.65  0.60   0.58  4.1 0.94\n",
       "Area10 464  0.74  0.74  0.71   0.68  4.1 0.89\n",
       "Area11 464  0.75  0.75  0.73   0.69  4.2 0.86\n",
       "Area12 464  0.79  0.79  0.77   0.74  4.2 0.92\n",
       "\n",
       "Non missing response frequency for each item\n",
       "          1    2    3    4    5 miss\n",
       "Area1  0.02 0.03 0.05 0.43 0.47    0\n",
       "Area2  0.01 0.04 0.08 0.42 0.44    0\n",
       "Area3  0.03 0.06 0.13 0.34 0.44    0\n",
       "Area4  0.02 0.07 0.09 0.29 0.54    0\n",
       "Area5  0.02 0.04 0.05 0.27 0.62    0\n",
       "Area6  0.03 0.07 0.11 0.39 0.40    0\n",
       "Area7  0.02 0.06 0.14 0.39 0.39    0\n",
       "Area8  0.04 0.08 0.11 0.31 0.45    0\n",
       "Area9  0.02 0.06 0.12 0.42 0.38    0\n",
       "Area10 0.02 0.04 0.12 0.44 0.39    0\n",
       "Area11 0.01 0.04 0.10 0.41 0.43    0\n",
       "Area12 0.01 0.05 0.11 0.37 0.45    0"
      ]
     },
     "metadata": {},
     "output_type": "display_data"
    }
   ],
   "source": [
    "alpha(studentSurveyArea2)"
   ]
  },
  {
   "cell_type": "code",
   "execution_count": 104,
   "id": "346a61e4-8d6a-4c1c-bab8-1763c0b888b7",
   "metadata": {},
   "outputs": [],
   "source": [
    "#The raw alpha is .92 (anything over .8 is good to go).This data has high inter-rater reliability\n",
    "#and predicts precision. Looking at the r.drop for inter items reliability, they are all above .3 and \n",
    "#moderately correlated. "
   ]
  },
  {
   "cell_type": "code",
   "execution_count": null,
   "id": "e290976d-e8a7-449b-81fe-2481e94652d6",
   "metadata": {},
   "outputs": [],
   "source": []
  }
 ],
 "metadata": {
  "kernelspec": {
   "display_name": "R",
   "language": "R",
   "name": "ir"
  },
  "language_info": {
   "codemirror_mode": "r",
   "file_extension": ".r",
   "mimetype": "text/x-r-source",
   "name": "R",
   "pygments_lexer": "r",
   "version": "4.2.2"
  }
 },
 "nbformat": 4,
 "nbformat_minor": 5
}
